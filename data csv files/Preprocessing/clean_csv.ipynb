{
 "cells": [
  {
   "cell_type": "code",
   "execution_count": 1,
   "id": "52783f60",
   "metadata": {},
   "outputs": [
    {
     "name": "stdout",
     "output_type": "stream",
     "text": [
      "         image_name  patient_id     sex  age_approx  \\\n",
      "0      ISIC_2637011  IP_7279968    male        45.0   \n",
      "1      ISIC_0015719  IP_3075186  female        45.0   \n",
      "2      ISIC_0052212  IP_2842074  female        50.0   \n",
      "3      ISIC_0068279  IP_6890425  female        45.0   \n",
      "4      ISIC_0074268  IP_8723313  female        55.0   \n",
      "...             ...         ...     ...         ...   \n",
      "33121  ISIC_9999134  IP_6526534    male        50.0   \n",
      "33122  ISIC_9999320  IP_3650745    male        65.0   \n",
      "33123  ISIC_9999515  IP_2026598    male        20.0   \n",
      "33124  ISIC_9999666  IP_7702038    male        50.0   \n",
      "33125  ISIC_9999806  IP_0046310    male        45.0   \n",
      "\n",
      "      anatom_site_general_challenge diagnosis benign_malignant  target  \n",
      "0                         head/neck   unknown           benign       0  \n",
      "1                   upper extremity   unknown           benign       0  \n",
      "2                   lower extremity     nevus           benign       0  \n",
      "3                         head/neck   unknown           benign       0  \n",
      "4                   upper extremity   unknown           benign       0  \n",
      "...                             ...       ...              ...     ...  \n",
      "33121                         torso   unknown           benign       0  \n",
      "33122                         torso   unknown           benign       0  \n",
      "33123               lower extremity   unknown           benign       0  \n",
      "33124               lower extremity   unknown           benign       0  \n",
      "33125                         torso     nevus           benign       0  \n",
      "\n",
      "[33126 rows x 8 columns]\n"
     ]
    }
   ],
   "source": [
    "import numpy as np\n",
    "import cv2\n",
    "\n",
    "import pandas as pd\n",
    "import random\n",
    "import os\n",
    "\n",
    "df_2020_train=\"/Users/omarabu-rmaileh/Desktop/data csv files/files before data parse/train.csv\"\n",
    "test_2020=\"/Users/omarabu-rmaileh/Desktop/data csv files/files before data parse/train.csv\"\n",
    "#curdir = os.path.abspath(os.path.dirname(df_2020_train)) # read the csv\n",
    "df=pd.read_csv(df_2020_train)#read the csv\n",
    "df_no_dets=pd.read_csv(df_2020_train)\n",
    "\n",
    "test_df=pd.read_csv(test_2020)\n",
    "\n",
    "print(df_no_dets)"
   ]
  },
  {
   "cell_type": "code",
   "execution_count": 2,
   "id": "ac08ed4f",
   "metadata": {},
   "outputs": [
    {
     "name": "stdout",
     "output_type": "stream",
     "text": [
      "         image_name diagnosis benign_malignant  target\n",
      "0      ISIC_2637011   unknown           benign       0\n",
      "1      ISIC_0015719   unknown           benign       0\n",
      "2      ISIC_0052212     nevus           benign       0\n",
      "3      ISIC_0068279   unknown           benign       0\n",
      "4      ISIC_0074268   unknown           benign       0\n",
      "...             ...       ...              ...     ...\n",
      "33121  ISIC_9999134   unknown           benign       0\n",
      "33122  ISIC_9999320   unknown           benign       0\n",
      "33123  ISIC_9999515   unknown           benign       0\n",
      "33124  ISIC_9999666   unknown           benign       0\n",
      "33125  ISIC_9999806     nevus           benign       0\n",
      "\n",
      "[33126 rows x 4 columns]\n"
     ]
    }
   ],
   "source": [
    "# Drop two columns fromm df_2020_train\n",
    "#drops the column benign_malignant and target\n",
    "#df.drop(['benign_malignant', 'target'], inplace=True, axis = 1)\n",
    "\n",
    "df_no_dets.drop(['sex','patient_id','age_approx','anatom_site_general_challenge', 'diagnosis'], inplace=True, axis = 1)\n",
    "test_df.drop(['sex','patient_id','age_approx','anatom_site_general_challenge'], inplace=True, axis = 1)\n",
    "\n",
    "print(test_df)"
   ]
  },
  {
   "cell_type": "code",
   "execution_count": 3,
   "id": "ba678ac9",
   "metadata": {},
   "outputs": [
    {
     "name": "stdout",
     "output_type": "stream",
     "text": [
      "         image_name benign_malignant  target\n",
      "0      ISIC_2637011           benign       0\n",
      "1      ISIC_0015719           benign       0\n",
      "2      ISIC_0052212           benign       0\n",
      "3      ISIC_0068279           benign       0\n",
      "4      ISIC_0074268           benign       0\n",
      "...             ...              ...     ...\n",
      "33121  ISIC_9999134           benign       0\n",
      "33122  ISIC_9999320           benign       0\n",
      "33123  ISIC_9999515           benign       0\n",
      "33124  ISIC_9999666           benign       0\n",
      "33125  ISIC_9999806           benign       0\n",
      "\n",
      "[33126 rows x 3 columns]\n"
     ]
    }
   ],
   "source": [
    "#replaces values only in the diagnosis column\n",
    "df= df.replace({\n",
    "    'diagnosis': {\n",
    "        'unknown': 'unk',\n",
    "        'nevus': 'NV',\n",
    "        'melanoma': 'MEL',\n",
    "        'seborrheic keratosis': 'BKL',\n",
    "        'lentigo NOS': 'BKL',\n",
    "        'lichenoid keratosis': 'BKL',\n",
    "        'solar lentigo': 'BKL',\n",
    "        'cafe-au-lait macule': 'UNK',\n",
    "        'atypical melanocytic proliferation': 'UNK'\n",
    "    }\n",
    "})\n",
    "df_no_dets=df_no_dets.replace({\n",
    "    'diagnosis': {\n",
    "        'unknown': 'unk',\n",
    "        'nevus': 'NV',\n",
    "        'target': 'target',\n",
    "        'melanoma': 'MEL',\n",
    "        'seborrheic keratosis': 'BKL',\n",
    "        'lentigo NOS': 'BKL',\n",
    "        'lichenoid keratosis': 'BKL',\n",
    "        'solar lentigo': 'BKL',\n",
    "        'cafe-au-lait macule': 'UNK',\n",
    "        'atypical melanocytic proliferation': 'UNK'\n",
    "    }\n",
    "    \n",
    "})\n",
    "\n",
    "test_df=test_df.replace({\n",
    "    'diagnosis': {\n",
    "        'unknown': 'unk',\n",
    "        'nevus': 'NV',\n",
    "        'target': 'target',\n",
    "        'melanoma': 'MEL',\n",
    "        'seborrheic keratosis': 'BKL',\n",
    "        'lentigo NOS': 'BKL',\n",
    "        'lichenoid keratosis': 'BKL',\n",
    "        'solar lentigo': 'BKL',\n",
    "        'cafe-au-lait macule': 'UNK',\n",
    "        'atypical melanocytic proliferation': 'UNK'\n",
    "    }\n",
    "    \n",
    "})\n",
    "print(df_no_dets)\n"
   ]
  },
  {
   "cell_type": "code",
   "execution_count": 4,
   "id": "2bdf51a7",
   "metadata": {},
   "outputs": [
    {
     "name": "stdout",
     "output_type": "stream",
     "text": [
      "              image   BE_ME  target\n",
      "0      ISIC_2637011  benign       0\n",
      "1      ISIC_0015719  benign       0\n",
      "2      ISIC_0052212  benign       0\n",
      "3      ISIC_0068279  benign       0\n",
      "4      ISIC_0074268  benign       0\n",
      "...             ...     ...     ...\n",
      "33121  ISIC_9999134  benign       0\n",
      "33122  ISIC_9999320  benign       0\n",
      "33123  ISIC_9999515  benign       0\n",
      "33124  ISIC_9999666  benign       0\n",
      "33125  ISIC_9999806  benign       0\n",
      "\n",
      "[33126 rows x 3 columns]\n"
     ]
    }
   ],
   "source": [
    "#renaming columns\n",
    "df = df.rename(columns= {\n",
    "    'anatom_site_general_challenge': 'anatom_site',\n",
    "    'image_name': 'image', 'age_approx': 'age','benign_malignant': 'BE_MEL'\n",
    "})\n",
    "df_no_dets=df_no_dets.rename(columns={\n",
    "    'image_name':'image', 'benign_malignant': 'BE_ME', 'target': 'target',\n",
    "})\n",
    "\n",
    "test_df=test_df.rename(columns={\n",
    "    'image_name':'image'\n",
    "})\n",
    "\n",
    "print(df_no_dets)"
   ]
  },
  {
   "cell_type": "code",
   "execution_count": 5,
   "id": "93b5bc36",
   "metadata": {},
   "outputs": [
    {
     "data": {
      "text/plain": [
       "array(['unk', 'NV', 'MEL', 'BKL', 'UNK'], dtype=object)"
      ]
     },
     "execution_count": 5,
     "metadata": {},
     "output_type": "execute_result"
    }
   ],
   "source": [
    "#shows different values for the diagnosis\n",
    "df.diagnosis.unique()\n",
    "# this code below would find all thedifferent values in the column diagosis\n",
    "#df_no_dets.diagnosis.unique()"
   ]
  },
  {
   "cell_type": "code",
   "execution_count": 6,
   "id": "e26ec91f",
   "metadata": {},
   "outputs": [
    {
     "data": {
      "text/html": [
       "<div>\n",
       "<style scoped>\n",
       "    .dataframe tbody tr th:only-of-type {\n",
       "        vertical-align: middle;\n",
       "    }\n",
       "\n",
       "    .dataframe tbody tr th {\n",
       "        vertical-align: top;\n",
       "    }\n",
       "\n",
       "    .dataframe thead th {\n",
       "        text-align: right;\n",
       "    }\n",
       "</style>\n",
       "<table border=\"1\" class=\"dataframe\">\n",
       "  <thead>\n",
       "    <tr style=\"text-align: right;\">\n",
       "      <th></th>\n",
       "      <th>image</th>\n",
       "      <th>diagnosis</th>\n",
       "      <th>benign_malignant</th>\n",
       "      <th>target</th>\n",
       "    </tr>\n",
       "  </thead>\n",
       "  <tbody>\n",
       "    <tr>\n",
       "      <th>0</th>\n",
       "      <td>ISIC_2637011</td>\n",
       "      <td>unk</td>\n",
       "      <td>benign</td>\n",
       "      <td>0</td>\n",
       "    </tr>\n",
       "    <tr>\n",
       "      <th>1</th>\n",
       "      <td>ISIC_0015719</td>\n",
       "      <td>unk</td>\n",
       "      <td>benign</td>\n",
       "      <td>0</td>\n",
       "    </tr>\n",
       "    <tr>\n",
       "      <th>2</th>\n",
       "      <td>ISIC_0052212</td>\n",
       "      <td>NV</td>\n",
       "      <td>benign</td>\n",
       "      <td>0</td>\n",
       "    </tr>\n",
       "    <tr>\n",
       "      <th>3</th>\n",
       "      <td>ISIC_0068279</td>\n",
       "      <td>unk</td>\n",
       "      <td>benign</td>\n",
       "      <td>0</td>\n",
       "    </tr>\n",
       "    <tr>\n",
       "      <th>4</th>\n",
       "      <td>ISIC_0074268</td>\n",
       "      <td>unk</td>\n",
       "      <td>benign</td>\n",
       "      <td>0</td>\n",
       "    </tr>\n",
       "  </tbody>\n",
       "</table>\n",
       "</div>"
      ],
      "text/plain": [
       "          image diagnosis benign_malignant  target\n",
       "0  ISIC_2637011       unk           benign       0\n",
       "1  ISIC_0015719       unk           benign       0\n",
       "2  ISIC_0052212        NV           benign       0\n",
       "3  ISIC_0068279       unk           benign       0\n",
       "4  ISIC_0074268       unk           benign       0"
      ]
     },
     "execution_count": 6,
     "metadata": {},
     "output_type": "execute_result"
    }
   ],
   "source": [
    "#resulting data format\n",
    "\n",
    "#df_no_dets.head()\n",
    "test_df.head()"
   ]
  },
  {
   "cell_type": "code",
   "execution_count": 7,
   "id": "6756c607",
   "metadata": {},
   "outputs": [
    {
     "ename": "KeyError",
     "evalue": "\"['diagnosis'] not in index\"",
     "output_type": "error",
     "traceback": [
      "\u001b[0;31m---------------------------------------------------------------------------\u001b[0m",
      "\u001b[0;31mKeyError\u001b[0m                                  Traceback (most recent call last)",
      "\u001b[0;32m<ipython-input-7-237d0d92f64d>\u001b[0m in \u001b[0;36m<module>\u001b[0;34m\u001b[0m\n\u001b[1;32m      1\u001b[0m \u001b[0mdf_2020_select\u001b[0m \u001b[0;34m=\u001b[0m \u001b[0mdf\u001b[0m\u001b[0;34m[\u001b[0m\u001b[0;34m[\u001b[0m\u001b[0;34m'image'\u001b[0m\u001b[0;34m,\u001b[0m \u001b[0;34m'sex'\u001b[0m\u001b[0;34m,\u001b[0m \u001b[0;34m'age'\u001b[0m\u001b[0;34m,\u001b[0m \u001b[0;34m'anatom_site'\u001b[0m\u001b[0;34m,\u001b[0m \u001b[0;34m'diagnosis'\u001b[0m\u001b[0;34m,\u001b[0m \u001b[0;34m'BE_MEL'\u001b[0m\u001b[0;34m]\u001b[0m\u001b[0;34m]\u001b[0m\u001b[0;34m\u001b[0m\u001b[0;34m\u001b[0m\u001b[0m\n\u001b[0;32m----> 2\u001b[0;31m \u001b[0mdf_no_dets\u001b[0m\u001b[0;34m=\u001b[0m\u001b[0mdf_no_dets\u001b[0m\u001b[0;34m[\u001b[0m\u001b[0;34m[\u001b[0m\u001b[0;34m'image'\u001b[0m\u001b[0;34m,\u001b[0m \u001b[0;34m'diagnosis'\u001b[0m\u001b[0;34m,\u001b[0m \u001b[0;34m'BE_ME'\u001b[0m\u001b[0;34m]\u001b[0m\u001b[0;34m]\u001b[0m\u001b[0;34m\u001b[0m\u001b[0;34m\u001b[0m\u001b[0m\n\u001b[0m",
      "\u001b[0;32m~/opt/anaconda3/envs/tensor/lib/python3.6/site-packages/pandas/core/frame.py\u001b[0m in \u001b[0;36m__getitem__\u001b[0;34m(self, key)\u001b[0m\n\u001b[1;32m   2910\u001b[0m             \u001b[0;32mif\u001b[0m \u001b[0mis_iterator\u001b[0m\u001b[0;34m(\u001b[0m\u001b[0mkey\u001b[0m\u001b[0;34m)\u001b[0m\u001b[0;34m:\u001b[0m\u001b[0;34m\u001b[0m\u001b[0;34m\u001b[0m\u001b[0m\n\u001b[1;32m   2911\u001b[0m                 \u001b[0mkey\u001b[0m \u001b[0;34m=\u001b[0m \u001b[0mlist\u001b[0m\u001b[0;34m(\u001b[0m\u001b[0mkey\u001b[0m\u001b[0;34m)\u001b[0m\u001b[0;34m\u001b[0m\u001b[0;34m\u001b[0m\u001b[0m\n\u001b[0;32m-> 2912\u001b[0;31m             \u001b[0mindexer\u001b[0m \u001b[0;34m=\u001b[0m \u001b[0mself\u001b[0m\u001b[0;34m.\u001b[0m\u001b[0mloc\u001b[0m\u001b[0;34m.\u001b[0m\u001b[0m_get_listlike_indexer\u001b[0m\u001b[0;34m(\u001b[0m\u001b[0mkey\u001b[0m\u001b[0;34m,\u001b[0m \u001b[0maxis\u001b[0m\u001b[0;34m=\u001b[0m\u001b[0;36m1\u001b[0m\u001b[0;34m,\u001b[0m \u001b[0mraise_missing\u001b[0m\u001b[0;34m=\u001b[0m\u001b[0;32mTrue\u001b[0m\u001b[0;34m)\u001b[0m\u001b[0;34m[\u001b[0m\u001b[0;36m1\u001b[0m\u001b[0;34m]\u001b[0m\u001b[0;34m\u001b[0m\u001b[0;34m\u001b[0m\u001b[0m\n\u001b[0m\u001b[1;32m   2913\u001b[0m \u001b[0;34m\u001b[0m\u001b[0m\n\u001b[1;32m   2914\u001b[0m         \u001b[0;31m# take() does not accept boolean indexers\u001b[0m\u001b[0;34m\u001b[0m\u001b[0;34m\u001b[0m\u001b[0;34m\u001b[0m\u001b[0m\n",
      "\u001b[0;32m~/opt/anaconda3/envs/tensor/lib/python3.6/site-packages/pandas/core/indexing.py\u001b[0m in \u001b[0;36m_get_listlike_indexer\u001b[0;34m(self, key, axis, raise_missing)\u001b[0m\n\u001b[1;32m   1252\u001b[0m             \u001b[0mkeyarr\u001b[0m\u001b[0;34m,\u001b[0m \u001b[0mindexer\u001b[0m\u001b[0;34m,\u001b[0m \u001b[0mnew_indexer\u001b[0m \u001b[0;34m=\u001b[0m \u001b[0max\u001b[0m\u001b[0;34m.\u001b[0m\u001b[0m_reindex_non_unique\u001b[0m\u001b[0;34m(\u001b[0m\u001b[0mkeyarr\u001b[0m\u001b[0;34m)\u001b[0m\u001b[0;34m\u001b[0m\u001b[0;34m\u001b[0m\u001b[0m\n\u001b[1;32m   1253\u001b[0m \u001b[0;34m\u001b[0m\u001b[0m\n\u001b[0;32m-> 1254\u001b[0;31m         \u001b[0mself\u001b[0m\u001b[0;34m.\u001b[0m\u001b[0m_validate_read_indexer\u001b[0m\u001b[0;34m(\u001b[0m\u001b[0mkeyarr\u001b[0m\u001b[0;34m,\u001b[0m \u001b[0mindexer\u001b[0m\u001b[0;34m,\u001b[0m \u001b[0maxis\u001b[0m\u001b[0;34m,\u001b[0m \u001b[0mraise_missing\u001b[0m\u001b[0;34m=\u001b[0m\u001b[0mraise_missing\u001b[0m\u001b[0;34m)\u001b[0m\u001b[0;34m\u001b[0m\u001b[0;34m\u001b[0m\u001b[0m\n\u001b[0m\u001b[1;32m   1255\u001b[0m         \u001b[0;32mreturn\u001b[0m \u001b[0mkeyarr\u001b[0m\u001b[0;34m,\u001b[0m \u001b[0mindexer\u001b[0m\u001b[0;34m\u001b[0m\u001b[0;34m\u001b[0m\u001b[0m\n\u001b[1;32m   1256\u001b[0m \u001b[0;34m\u001b[0m\u001b[0m\n",
      "\u001b[0;32m~/opt/anaconda3/envs/tensor/lib/python3.6/site-packages/pandas/core/indexing.py\u001b[0m in \u001b[0;36m_validate_read_indexer\u001b[0;34m(self, key, indexer, axis, raise_missing)\u001b[0m\n\u001b[1;32m   1302\u001b[0m             \u001b[0;32mif\u001b[0m \u001b[0mraise_missing\u001b[0m\u001b[0;34m:\u001b[0m\u001b[0;34m\u001b[0m\u001b[0;34m\u001b[0m\u001b[0m\n\u001b[1;32m   1303\u001b[0m                 \u001b[0mnot_found\u001b[0m \u001b[0;34m=\u001b[0m \u001b[0mlist\u001b[0m\u001b[0;34m(\u001b[0m\u001b[0mset\u001b[0m\u001b[0;34m(\u001b[0m\u001b[0mkey\u001b[0m\u001b[0;34m)\u001b[0m \u001b[0;34m-\u001b[0m \u001b[0mset\u001b[0m\u001b[0;34m(\u001b[0m\u001b[0max\u001b[0m\u001b[0;34m)\u001b[0m\u001b[0;34m)\u001b[0m\u001b[0;34m\u001b[0m\u001b[0;34m\u001b[0m\u001b[0m\n\u001b[0;32m-> 1304\u001b[0;31m                 \u001b[0;32mraise\u001b[0m \u001b[0mKeyError\u001b[0m\u001b[0;34m(\u001b[0m\u001b[0;34mf\"{not_found} not in index\"\u001b[0m\u001b[0;34m)\u001b[0m\u001b[0;34m\u001b[0m\u001b[0;34m\u001b[0m\u001b[0m\n\u001b[0m\u001b[1;32m   1305\u001b[0m \u001b[0;34m\u001b[0m\u001b[0m\n\u001b[1;32m   1306\u001b[0m             \u001b[0;31m# we skip the warning on Categorical\u001b[0m\u001b[0;34m\u001b[0m\u001b[0;34m\u001b[0m\u001b[0;34m\u001b[0m\u001b[0m\n",
      "\u001b[0;31mKeyError\u001b[0m: \"['diagnosis'] not in index\""
     ]
    }
   ],
   "source": [
    "df_2020_select = df[['image', 'sex', 'age', 'anatom_site', 'diagnosis', 'BE_MEL']]\n",
    "df_no_dets=df_no_dets[['image', 'diagnosis', 'BE_ME']]"
   ]
  },
  {
   "cell_type": "code",
   "execution_count": null,
   "id": "44225fdd",
   "metadata": {},
   "outputs": [],
   "source": [
    "df_no_dets.head()"
   ]
  },
  {
   "cell_type": "code",
   "execution_count": null,
   "id": "849629b0",
   "metadata": {},
   "outputs": [],
   "source": [
    "df_2020_select.shape\n",
    "df_no_dets.shape"
   ]
  },
  {
   "cell_type": "code",
   "execution_count": null,
   "id": "20f0f4ef",
   "metadata": {},
   "outputs": [],
   "source": [
    "#path=\"/Users/omarabu-rmaileh/Desktop/new_set/\"\n",
    "#the code beo will be where you want this csv to be located\n",
    "path2=\"path to store results\n",
    "test_=\"path to store results/\"\n",
    "# save to its own cv\n",
    "#has patient details\n",
    "df_2020_select.to_csv(path2+'trial_2020_details.csv',index=True)\n",
    "\n",
    "#index = true allows all column heads to copied in the exact same way as it was altered\n",
    "df_no_dets.to_csv(path2+'trial_2020_WO.csv', index=True)\n",
    "test_df.to_csv(test_p+'test_images.csv', index=True)"
   ]
  },
  {
   "cell_type": "code",
   "execution_count": null,
   "id": "5f2a5e07",
   "metadata": {},
   "outputs": [],
   "source": []
  }
 ],
 "metadata": {
  "kernelspec": {
   "display_name": "Python 3",
   "language": "python",
   "name": "python3"
  },
  "language_info": {
   "codemirror_mode": {
    "name": "ipython",
    "version": 3
   },
   "file_extension": ".py",
   "mimetype": "text/x-python",
   "name": "python",
   "nbconvert_exporter": "python",
   "pygments_lexer": "ipython3",
   "version": "3.6.13"
  }
 },
 "nbformat": 4,
 "nbformat_minor": 5
}
